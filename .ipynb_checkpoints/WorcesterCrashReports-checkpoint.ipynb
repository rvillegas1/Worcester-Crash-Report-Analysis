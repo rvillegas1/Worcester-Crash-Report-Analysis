{
 "cells": [
  {
   "cell_type": "code",
   "execution_count": 35,
   "metadata": {},
   "outputs": [],
   "source": [
    "import pandas as pd\n",
    "import matplotlib as plt\n",
    "import os\n",
    "import glob\n",
    "import datetime"
   ]
  },
  {
   "cell_type": "code",
   "execution_count": 27,
   "metadata": {},
   "outputs": [],
   "source": [
    "#os.chdir('C:/Users/Renz/Desktop/Please  DO/CrashReports')\n",
    "\n",
    "#dfs = [pd.read_csv(f, index_col=[0])\n",
    "  #      for f in os.listdir(os.getcwd()) if f.endswith('csv')]\n",
    "\n",
    "#finaldf = pd.concat(dfs, axis=1, join='inner').sort_index()"
   ]
  },
  {
   "cell_type": "code",
   "execution_count": 33,
   "metadata": {
    "scrolled": true
   },
   "outputs": [
    {
     "name": "stderr",
     "output_type": "stream",
     "text": [
      "C:\\Users\\Renz\\Anaconda3\\lib\\site-packages\\ipykernel_launcher.py:2: DtypeWarning: Columns (1) have mixed types. Specify dtype option on import or set low_memory=False.\n",
      "  \n",
      "C:\\Users\\Renz\\Anaconda3\\lib\\site-packages\\ipykernel_launcher.py:2: FutureWarning: Sorting because non-concatenation axis is not aligned. A future version\n",
      "of pandas will change to not sort by default.\n",
      "\n",
      "To accept the future behavior, pass 'sort=True'.\n",
      "\n",
      "To retain the current behavior and silence the warning, pass sort=False\n",
      "\n",
      "  \n"
     ]
    }
   ],
   "source": [
    "worcester_crashreports = glob.glob(\"*.csv\") \n",
    "df = pd.concat((pd.read_csv(f, header = 0) for f in worcester_crashreports))\n",
    "df_worcrash = df.drop_duplicates()\n",
    "#df_worcrash.to_csv(\"Worces.csv\")"
   ]
  },
  {
   "cell_type": "code",
   "execution_count": 34,
   "metadata": {},
   "outputs": [
    {
     "data": {
      "text/html": [
       "<div>\n",
       "<style scoped>\n",
       "    .dataframe tbody tr th:only-of-type {\n",
       "        vertical-align: middle;\n",
       "    }\n",
       "\n",
       "    .dataframe tbody tr th {\n",
       "        vertical-align: top;\n",
       "    }\n",
       "\n",
       "    .dataframe thead th {\n",
       "        text-align: right;\n",
       "    }\n",
       "</style>\n",
       "<table border=\"1\" class=\"dataframe\">\n",
       "  <thead>\n",
       "    <tr style=\"text-align: right;\">\n",
       "      <th></th>\n",
       "      <th>Crash Number</th>\n",
       "      <th>Crash Date</th>\n",
       "      <th>Crash Time</th>\n",
       "      <th>City/Town</th>\n",
       "      <th>Crash Severity</th>\n",
       "      <th>Roadway</th>\n",
       "      <th>Near Intersection Roadway</th>\n",
       "      <th>Landmark</th>\n",
       "      <th>Police Agency</th>\n",
       "    </tr>\n",
       "  </thead>\n",
       "  <tbody>\n",
       "    <tr>\n",
       "      <th>0</th>\n",
       "      <td>4051393</td>\n",
       "      <td>3/24/2015</td>\n",
       "      <td>11:47 AM</td>\n",
       "      <td>WORCESTER</td>\n",
       "      <td>Non-fatal injury</td>\n",
       "      <td>SALISBURY STREET / WESTWOOD DRIVE</td>\n",
       "      <td>NaN</td>\n",
       "      <td>NaN</td>\n",
       "      <td>Local police</td>\n",
       "    </tr>\n",
       "    <tr>\n",
       "      <th>1</th>\n",
       "      <td>4051388</td>\n",
       "      <td>3/24/2015</td>\n",
       "      <td>2:25 PM</td>\n",
       "      <td>WORCESTER</td>\n",
       "      <td>Property damage only (none injured)</td>\n",
       "      <td>CAMELOT DRIVE</td>\n",
       "      <td>NaN</td>\n",
       "      <td>NaN</td>\n",
       "      <td>Local police</td>\n",
       "    </tr>\n",
       "    <tr>\n",
       "      <th>2</th>\n",
       "      <td>4054884</td>\n",
       "      <td>2/26/2015</td>\n",
       "      <td>11:10 AM</td>\n",
       "      <td>WORCESTER</td>\n",
       "      <td>Property damage only (none injured)</td>\n",
       "      <td>CHESTER STREET</td>\n",
       "      <td>NaN</td>\n",
       "      <td>NaN</td>\n",
       "      <td>Local police</td>\n",
       "    </tr>\n",
       "    <tr>\n",
       "      <th>3</th>\n",
       "      <td>2790347</td>\n",
       "      <td>11/1/2011</td>\n",
       "      <td>8:25 PM</td>\n",
       "      <td>WORCESTER</td>\n",
       "      <td>Property damage only (none injured)</td>\n",
       "      <td>Rte 190 S</td>\n",
       "      <td>NaN</td>\n",
       "      <td>NaN</td>\n",
       "      <td>State police</td>\n",
       "    </tr>\n",
       "    <tr>\n",
       "      <th>4</th>\n",
       "      <td>4054867</td>\n",
       "      <td>2/26/2015</td>\n",
       "      <td>8:29 PM</td>\n",
       "      <td>WORCESTER</td>\n",
       "      <td>Property damage only (none injured)</td>\n",
       "      <td>MOUNTAIN STREET WEST / BROOKS STREET</td>\n",
       "      <td>NaN</td>\n",
       "      <td>NaN</td>\n",
       "      <td>Local police</td>\n",
       "    </tr>\n",
       "  </tbody>\n",
       "</table>\n",
       "</div>"
      ],
      "text/plain": [
       "  Crash Number Crash Date Crash Time  City/Town  \\\n",
       "0      4051393  3/24/2015   11:47 AM  WORCESTER   \n",
       "1      4051388  3/24/2015    2:25 PM  WORCESTER   \n",
       "2      4054884  2/26/2015   11:10 AM  WORCESTER   \n",
       "3      2790347  11/1/2011    8:25 PM  WORCESTER   \n",
       "4      4054867  2/26/2015    8:29 PM  WORCESTER   \n",
       "\n",
       "                        Crash Severity                               Roadway  \\\n",
       "0                     Non-fatal injury     SALISBURY STREET / WESTWOOD DRIVE   \n",
       "1  Property damage only (none injured)                         CAMELOT DRIVE   \n",
       "2  Property damage only (none injured)                        CHESTER STREET   \n",
       "3  Property damage only (none injured)                             Rte 190 S   \n",
       "4  Property damage only (none injured)  MOUNTAIN STREET WEST / BROOKS STREET   \n",
       "\n",
       "  Near Intersection Roadway Landmark Police Agency  \n",
       "0                       NaN      NaN  Local police  \n",
       "1                       NaN      NaN  Local police  \n",
       "2                       NaN      NaN  Local police  \n",
       "3                       NaN      NaN  State police  \n",
       "4                       NaN      NaN  Local police  "
      ]
     },
     "execution_count": 34,
     "metadata": {},
     "output_type": "execute_result"
    }
   ],
   "source": [
    "df_deduplicated.head(5)"
   ]
  },
  {
   "cell_type": "code",
   "execution_count": 36,
   "metadata": {},
   "outputs": [],
   "source": [
    "df_worcrash = df_worcrash[['Crash Number', 'Crash Date', 'Crash Time', 'City/Town', 'Crash Severity','Roadway']]"
   ]
  },
  {
   "cell_type": "code",
   "execution_count": 41,
   "metadata": {},
   "outputs": [
    {
     "data": {
      "text/plain": [
       "array(['WORCESTER', 'WEST BOYLSTON', 'HOLDEN', 'GRAFTON', nan,\n",
       "       'SHREWSBURY', 'HUDSON', 'LEICESTER', 'MILLBURY', 'AUBURN',\n",
       "       'LEOMINSTER'], dtype=object)"
      ]
     },
     "execution_count": 41,
     "metadata": {},
     "output_type": "execute_result"
    }
   ],
   "source": [
    "df_worcrash['City/Town'].unique()"
   ]
  },
  {
   "cell_type": "code",
   "execution_count": 46,
   "metadata": {},
   "outputs": [],
   "source": [
    "df_worcrash = df_worcrash[df_worcrash['City/Town'] == 'WORCESTER']"
   ]
  },
  {
   "cell_type": "code",
   "execution_count": 47,
   "metadata": {},
   "outputs": [
    {
     "data": {
      "text/html": [
       "<div>\n",
       "<style scoped>\n",
       "    .dataframe tbody tr th:only-of-type {\n",
       "        vertical-align: middle;\n",
       "    }\n",
       "\n",
       "    .dataframe tbody tr th {\n",
       "        vertical-align: top;\n",
       "    }\n",
       "\n",
       "    .dataframe thead th {\n",
       "        text-align: right;\n",
       "    }\n",
       "</style>\n",
       "<table border=\"1\" class=\"dataframe\">\n",
       "  <thead>\n",
       "    <tr style=\"text-align: right;\">\n",
       "      <th></th>\n",
       "      <th>Crash Number</th>\n",
       "      <th>Crash Date</th>\n",
       "      <th>Crash Time</th>\n",
       "      <th>City/Town</th>\n",
       "      <th>Crash Severity</th>\n",
       "      <th>Roadway</th>\n",
       "    </tr>\n",
       "  </thead>\n",
       "  <tbody>\n",
       "    <tr>\n",
       "      <th>0</th>\n",
       "      <td>4051393</td>\n",
       "      <td>3/24/2015</td>\n",
       "      <td>11:47 AM</td>\n",
       "      <td>WORCESTER</td>\n",
       "      <td>Non-fatal injury</td>\n",
       "      <td>SALISBURY STREET / WESTWOOD DRIVE</td>\n",
       "    </tr>\n",
       "    <tr>\n",
       "      <th>1</th>\n",
       "      <td>4051388</td>\n",
       "      <td>3/24/2015</td>\n",
       "      <td>2:25 PM</td>\n",
       "      <td>WORCESTER</td>\n",
       "      <td>Property damage only (none injured)</td>\n",
       "      <td>CAMELOT DRIVE</td>\n",
       "    </tr>\n",
       "    <tr>\n",
       "      <th>2</th>\n",
       "      <td>4054884</td>\n",
       "      <td>2/26/2015</td>\n",
       "      <td>11:10 AM</td>\n",
       "      <td>WORCESTER</td>\n",
       "      <td>Property damage only (none injured)</td>\n",
       "      <td>CHESTER STREET</td>\n",
       "    </tr>\n",
       "    <tr>\n",
       "      <th>3</th>\n",
       "      <td>2790347</td>\n",
       "      <td>11/1/2011</td>\n",
       "      <td>8:25 PM</td>\n",
       "      <td>WORCESTER</td>\n",
       "      <td>Property damage only (none injured)</td>\n",
       "      <td>Rte 190 S</td>\n",
       "    </tr>\n",
       "    <tr>\n",
       "      <th>4</th>\n",
       "      <td>4054867</td>\n",
       "      <td>2/26/2015</td>\n",
       "      <td>8:29 PM</td>\n",
       "      <td>WORCESTER</td>\n",
       "      <td>Property damage only (none injured)</td>\n",
       "      <td>MOUNTAIN STREET WEST / BROOKS STREET</td>\n",
       "    </tr>\n",
       "  </tbody>\n",
       "</table>\n",
       "</div>"
      ],
      "text/plain": [
       "  Crash Number Crash Date Crash Time  City/Town  \\\n",
       "0      4051393  3/24/2015   11:47 AM  WORCESTER   \n",
       "1      4051388  3/24/2015    2:25 PM  WORCESTER   \n",
       "2      4054884  2/26/2015   11:10 AM  WORCESTER   \n",
       "3      2790347  11/1/2011    8:25 PM  WORCESTER   \n",
       "4      4054867  2/26/2015    8:29 PM  WORCESTER   \n",
       "\n",
       "                        Crash Severity                               Roadway  \n",
       "0                     Non-fatal injury     SALISBURY STREET / WESTWOOD DRIVE  \n",
       "1  Property damage only (none injured)                         CAMELOT DRIVE  \n",
       "2  Property damage only (none injured)                        CHESTER STREET  \n",
       "3  Property damage only (none injured)                             Rte 190 S  \n",
       "4  Property damage only (none injured)  MOUNTAIN STREET WEST / BROOKS STREET  "
      ]
     },
     "execution_count": 47,
     "metadata": {},
     "output_type": "execute_result"
    }
   ],
   "source": [
    "df_worcrash.head(5)"
   ]
  },
  {
   "cell_type": "code",
   "execution_count": 48,
   "metadata": {},
   "outputs": [
    {
     "data": {
      "text/plain": [
       "array(['WORCESTER'], dtype=object)"
      ]
     },
     "execution_count": 48,
     "metadata": {},
     "output_type": "execute_result"
    }
   ],
   "source": [
    "pd.to_datetime(df_worcrash['Crash Date'])"
   ]
  },
  {
   "cell_type": "code",
   "execution_count": null,
   "metadata": {},
   "outputs": [],
   "source": []
  }
 ],
 "metadata": {
  "kernelspec": {
   "display_name": "Python 3",
   "language": "python",
   "name": "python3"
  },
  "language_info": {
   "codemirror_mode": {
    "name": "ipython",
    "version": 3
   },
   "file_extension": ".py",
   "mimetype": "text/x-python",
   "name": "python",
   "nbconvert_exporter": "python",
   "pygments_lexer": "ipython3",
   "version": "3.6.5"
  }
 },
 "nbformat": 4,
 "nbformat_minor": 2
}
