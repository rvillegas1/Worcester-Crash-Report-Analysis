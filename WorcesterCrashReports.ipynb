{
 "cells": [
  {
   "cell_type": "markdown",
   "metadata": {},
   "source": [
    "#Worcester Crash Reports"
   ]
  },
  {
   "cell_type": "markdown",
   "metadata": {},
   "source": [
    "##This project is based on the vehicular crash reports from the Worcester County. Using the mapping tool from the MASSDOT [crash portal](http://services.massdot.state.ma.us/crashportal/CrashMapPage.aspx?Mode=Mapping). I tried to grab all the data I could get, but since you could only get 8000 results at once, I had to do it multiple times to get the entire city of Worcester's data."
   ]
  },
  {
   "cell_type": "code",
   "execution_count": 114,
   "metadata": {},
   "outputs": [],
   "source": [
    "import pandas as pd #For Data Cleaning and Manipulation\n",
    "import matplotlib as plt #Data analysis by plotting\n",
    "import glob #Used as a way to open all csv files that were collected\n",
    "from datetime import time #used to clean and better express the Date and Time features\n",
    "#import time"
   ]
  },
  {
   "cell_type": "markdown",
   "metadata": {},
   "source": [
    "##Joining all csv files into one dataframe\n",
    "###Since I had to download multiple csv files, I needed to combine all of them into one data. I could of open them one by one and assigning them to a dataframe, but I decided to look around for a solution into reading all the csv files and then concatinating it into a bigger csv file. I then decided to remove all the duplicates if there was any, so that we  wouldn't have repeated data."
   ]
  },
  {
   "cell_type": "code",
   "execution_count": 130,
   "metadata": {},
   "outputs": [
    {
     "name": "stderr",
     "output_type": "stream",
     "text": [
      "C:\\Users\\Renz\\Anaconda3\\lib\\site-packages\\ipykernel_launcher.py:2: DtypeWarning: Columns (1) have mixed types. Specify dtype option on import or set low_memory=False.\n",
      "  \n",
      "C:\\Users\\Renz\\Anaconda3\\lib\\site-packages\\ipykernel_launcher.py:2: FutureWarning: Sorting because non-concatenation axis is not aligned. A future version\n",
      "of pandas will change to not sort by default.\n",
      "\n",
      "To accept the future behavior, pass 'sort=True'.\n",
      "\n",
      "To retain the current behavior and silence the warning, pass sort=False\n",
      "\n",
      "  \n"
     ]
    }
   ],
   "source": [
    "worcester_crashreports = glob.glob(\"*.csv\") \n",
    "df = pd.concat((pd.read_csv(f, header = 0, parse_dates=[['Crash Date', 'Crash Time']]) for f in worcester_crashreports))\n",
    "df_worcrash = df.drop_duplicates()\n",
    "#df_worcrash.to_csv(\"Worces.csv\")"
   ]
  },
  {
   "cell_type": "code",
   "execution_count": 131,
   "metadata": {},
   "outputs": [
    {
     "data": {
      "text/html": [
       "<div>\n",
       "<style scoped>\n",
       "    .dataframe tbody tr th:only-of-type {\n",
       "        vertical-align: middle;\n",
       "    }\n",
       "\n",
       "    .dataframe tbody tr th {\n",
       "        vertical-align: top;\n",
       "    }\n",
       "\n",
       "    .dataframe thead th {\n",
       "        text-align: right;\n",
       "    }\n",
       "</style>\n",
       "<table border=\"1\" class=\"dataframe\">\n",
       "  <thead>\n",
       "    <tr style=\"text-align: right;\">\n",
       "      <th></th>\n",
       "      <th>City/Town</th>\n",
       "      <th>Crash Date_Crash Time</th>\n",
       "      <th>Crash Number</th>\n",
       "      <th>Crash Severity</th>\n",
       "      <th>Landmark</th>\n",
       "      <th>Near Intersection Roadway</th>\n",
       "      <th>Police Agency</th>\n",
       "      <th>Roadway</th>\n",
       "      <th>Unnamed: 0</th>\n",
       "    </tr>\n",
       "  </thead>\n",
       "  <tbody>\n",
       "    <tr>\n",
       "      <th>0</th>\n",
       "      <td>WORCESTER</td>\n",
       "      <td>3/24/2015 11:47 AM</td>\n",
       "      <td>4051393</td>\n",
       "      <td>Non-fatal injury</td>\n",
       "      <td>NaN</td>\n",
       "      <td>NaN</td>\n",
       "      <td>Local police</td>\n",
       "      <td>SALISBURY STREET / WESTWOOD DRIVE</td>\n",
       "      <td>NaN</td>\n",
       "    </tr>\n",
       "    <tr>\n",
       "      <th>1</th>\n",
       "      <td>WORCESTER</td>\n",
       "      <td>3/24/2015 2:25 PM</td>\n",
       "      <td>4051388</td>\n",
       "      <td>Property damage only (none injured)</td>\n",
       "      <td>NaN</td>\n",
       "      <td>NaN</td>\n",
       "      <td>Local police</td>\n",
       "      <td>CAMELOT DRIVE</td>\n",
       "      <td>NaN</td>\n",
       "    </tr>\n",
       "    <tr>\n",
       "      <th>2</th>\n",
       "      <td>WORCESTER</td>\n",
       "      <td>2/26/2015 11:10 AM</td>\n",
       "      <td>4054884</td>\n",
       "      <td>Property damage only (none injured)</td>\n",
       "      <td>NaN</td>\n",
       "      <td>NaN</td>\n",
       "      <td>Local police</td>\n",
       "      <td>CHESTER STREET</td>\n",
       "      <td>NaN</td>\n",
       "    </tr>\n",
       "    <tr>\n",
       "      <th>3</th>\n",
       "      <td>WORCESTER</td>\n",
       "      <td>11/1/2011 8:25 PM</td>\n",
       "      <td>2790347</td>\n",
       "      <td>Property damage only (none injured)</td>\n",
       "      <td>NaN</td>\n",
       "      <td>NaN</td>\n",
       "      <td>State police</td>\n",
       "      <td>Rte 190 S</td>\n",
       "      <td>NaN</td>\n",
       "    </tr>\n",
       "    <tr>\n",
       "      <th>4</th>\n",
       "      <td>WORCESTER</td>\n",
       "      <td>2/26/2015 8:29 PM</td>\n",
       "      <td>4054867</td>\n",
       "      <td>Property damage only (none injured)</td>\n",
       "      <td>NaN</td>\n",
       "      <td>NaN</td>\n",
       "      <td>Local police</td>\n",
       "      <td>MOUNTAIN STREET WEST / BROOKS STREET</td>\n",
       "      <td>NaN</td>\n",
       "    </tr>\n",
       "  </tbody>\n",
       "</table>\n",
       "</div>"
      ],
      "text/plain": [
       "   City/Town Crash Date_Crash Time Crash Number  \\\n",
       "0  WORCESTER    3/24/2015 11:47 AM      4051393   \n",
       "1  WORCESTER     3/24/2015 2:25 PM      4051388   \n",
       "2  WORCESTER    2/26/2015 11:10 AM      4054884   \n",
       "3  WORCESTER     11/1/2011 8:25 PM      2790347   \n",
       "4  WORCESTER     2/26/2015 8:29 PM      4054867   \n",
       "\n",
       "                        Crash Severity Landmark Near Intersection Roadway  \\\n",
       "0                     Non-fatal injury      NaN                       NaN   \n",
       "1  Property damage only (none injured)      NaN                       NaN   \n",
       "2  Property damage only (none injured)      NaN                       NaN   \n",
       "3  Property damage only (none injured)      NaN                       NaN   \n",
       "4  Property damage only (none injured)      NaN                       NaN   \n",
       "\n",
       "  Police Agency                               Roadway  Unnamed: 0  \n",
       "0  Local police     SALISBURY STREET / WESTWOOD DRIVE         NaN  \n",
       "1  Local police                         CAMELOT DRIVE         NaN  \n",
       "2  Local police                        CHESTER STREET         NaN  \n",
       "3  State police                             Rte 190 S         NaN  \n",
       "4  Local police  MOUNTAIN STREET WEST / BROOKS STREET         NaN  "
      ]
     },
     "execution_count": 131,
     "metadata": {},
     "output_type": "execute_result"
    }
   ],
   "source": [
    "df_worcrash.head(5) #Just looking at what our data looks like."
   ]
  },
  {
   "cell_type": "markdown",
   "metadata": {},
   "source": [
    "###Cleaning the data a bit more, I decided to drop the Landmark and the Near Intersection or Roadway because it was mostly not available"
   ]
  },
  {
   "cell_type": "code",
   "execution_count": 117,
   "metadata": {},
   "outputs": [],
   "source": [
    "df_worcrash = df_worcrash[['Crash Number', 'Crash Date', 'Crash Time', 'City/Town', 'Crash Severity','Police Agency','Roadway']]"
   ]
  },
  {
   "cell_type": "markdown",
   "metadata": {},
   "source": [
    "###Since I did this using the crash portal tool where I had to use the \"drawing\" kind of tool to select the \n",
    "areas I wanted, there were times when I accidentally grabbed some data from other towns. So I tried to find\n",
    "if I had any other town and only selected WORCESTER."
   ]
  },
  {
   "cell_type": "code",
   "execution_count": 118,
   "metadata": {},
   "outputs": [
    {
     "data": {
      "text/plain": [
       "array(['WORCESTER', 'WEST BOYLSTON', 'HOLDEN', 'GRAFTON', nan,\n",
       "       'SHREWSBURY', 'HUDSON', 'LEICESTER', 'MILLBURY', 'AUBURN',\n",
       "       'LEOMINSTER'], dtype=object)"
      ]
     },
     "execution_count": 118,
     "metadata": {},
     "output_type": "execute_result"
    }
   ],
   "source": [
    "df_worcrash['City/Town'].unique()"
   ]
  },
  {
   "cell_type": "code",
   "execution_count": 119,
   "metadata": {},
   "outputs": [],
   "source": [
    "df_worcrash = df_worcrash[df_worcrash['City/Town'] == 'WORCESTER'] #Only selecting Worcester from the files"
   ]
  },
  {
   "cell_type": "code",
   "execution_count": 120,
   "metadata": {},
   "outputs": [
    {
     "data": {
      "text/html": [
       "<div>\n",
       "<style scoped>\n",
       "    .dataframe tbody tr th:only-of-type {\n",
       "        vertical-align: middle;\n",
       "    }\n",
       "\n",
       "    .dataframe tbody tr th {\n",
       "        vertical-align: top;\n",
       "    }\n",
       "\n",
       "    .dataframe thead th {\n",
       "        text-align: right;\n",
       "    }\n",
       "</style>\n",
       "<table border=\"1\" class=\"dataframe\">\n",
       "  <thead>\n",
       "    <tr style=\"text-align: right;\">\n",
       "      <th></th>\n",
       "      <th>Crash Number</th>\n",
       "      <th>Crash Date</th>\n",
       "      <th>Crash Time</th>\n",
       "      <th>City/Town</th>\n",
       "      <th>Crash Severity</th>\n",
       "      <th>Police Agency</th>\n",
       "      <th>Roadway</th>\n",
       "    </tr>\n",
       "  </thead>\n",
       "  <tbody>\n",
       "    <tr>\n",
       "      <th>0</th>\n",
       "      <td>4051393</td>\n",
       "      <td>3/24/2015</td>\n",
       "      <td>11:47 AM</td>\n",
       "      <td>WORCESTER</td>\n",
       "      <td>Non-fatal injury</td>\n",
       "      <td>Local police</td>\n",
       "      <td>SALISBURY STREET / WESTWOOD DRIVE</td>\n",
       "    </tr>\n",
       "    <tr>\n",
       "      <th>1</th>\n",
       "      <td>4051388</td>\n",
       "      <td>3/24/2015</td>\n",
       "      <td>2:25 PM</td>\n",
       "      <td>WORCESTER</td>\n",
       "      <td>Property damage only (none injured)</td>\n",
       "      <td>Local police</td>\n",
       "      <td>CAMELOT DRIVE</td>\n",
       "    </tr>\n",
       "    <tr>\n",
       "      <th>2</th>\n",
       "      <td>4054884</td>\n",
       "      <td>2/26/2015</td>\n",
       "      <td>11:10 AM</td>\n",
       "      <td>WORCESTER</td>\n",
       "      <td>Property damage only (none injured)</td>\n",
       "      <td>Local police</td>\n",
       "      <td>CHESTER STREET</td>\n",
       "    </tr>\n",
       "    <tr>\n",
       "      <th>3</th>\n",
       "      <td>2790347</td>\n",
       "      <td>11/1/2011</td>\n",
       "      <td>8:25 PM</td>\n",
       "      <td>WORCESTER</td>\n",
       "      <td>Property damage only (none injured)</td>\n",
       "      <td>State police</td>\n",
       "      <td>Rte 190 S</td>\n",
       "    </tr>\n",
       "    <tr>\n",
       "      <th>4</th>\n",
       "      <td>4054867</td>\n",
       "      <td>2/26/2015</td>\n",
       "      <td>8:29 PM</td>\n",
       "      <td>WORCESTER</td>\n",
       "      <td>Property damage only (none injured)</td>\n",
       "      <td>Local police</td>\n",
       "      <td>MOUNTAIN STREET WEST / BROOKS STREET</td>\n",
       "    </tr>\n",
       "  </tbody>\n",
       "</table>\n",
       "</div>"
      ],
      "text/plain": [
       "  Crash Number Crash Date Crash Time  City/Town  \\\n",
       "0      4051393  3/24/2015   11:47 AM  WORCESTER   \n",
       "1      4051388  3/24/2015    2:25 PM  WORCESTER   \n",
       "2      4054884  2/26/2015   11:10 AM  WORCESTER   \n",
       "3      2790347  11/1/2011    8:25 PM  WORCESTER   \n",
       "4      4054867  2/26/2015    8:29 PM  WORCESTER   \n",
       "\n",
       "                        Crash Severity Police Agency  \\\n",
       "0                     Non-fatal injury  Local police   \n",
       "1  Property damage only (none injured)  Local police   \n",
       "2  Property damage only (none injured)  Local police   \n",
       "3  Property damage only (none injured)  State police   \n",
       "4  Property damage only (none injured)  Local police   \n",
       "\n",
       "                                Roadway  \n",
       "0     SALISBURY STREET / WESTWOOD DRIVE  \n",
       "1                         CAMELOT DRIVE  \n",
       "2                        CHESTER STREET  \n",
       "3                             Rte 190 S  \n",
       "4  MOUNTAIN STREET WEST / BROOKS STREET  "
      ]
     },
     "execution_count": 120,
     "metadata": {},
     "output_type": "execute_result"
    }
   ],
   "source": [
    "df_worcrash.head(5) #This is what the data looks like now."
   ]
  },
  {
   "cell_type": "markdown",
   "metadata": {},
   "source": [
    "###Again, since its all gonna be from worcester, I am just going to drop the City/Town feature."
   ]
  },
  {
   "cell_type": "code",
   "execution_count": 121,
   "metadata": {},
   "outputs": [],
   "source": [
    "df_worcrash = df_worcrash[['Crash Number', 'Crash Date', 'Crash Time', 'Crash Severity','Police Agency','Roadway']]"
   ]
  },
  {
   "cell_type": "code",
   "execution_count": 122,
   "metadata": {},
   "outputs": [
    {
     "data": {
      "text/html": [
       "<div>\n",
       "<style scoped>\n",
       "    .dataframe tbody tr th:only-of-type {\n",
       "        vertical-align: middle;\n",
       "    }\n",
       "\n",
       "    .dataframe tbody tr th {\n",
       "        vertical-align: top;\n",
       "    }\n",
       "\n",
       "    .dataframe thead th {\n",
       "        text-align: right;\n",
       "    }\n",
       "</style>\n",
       "<table border=\"1\" class=\"dataframe\">\n",
       "  <thead>\n",
       "    <tr style=\"text-align: right;\">\n",
       "      <th></th>\n",
       "      <th>Crash Number</th>\n",
       "      <th>Crash Date</th>\n",
       "      <th>Crash Time</th>\n",
       "      <th>Crash Severity</th>\n",
       "      <th>Police Agency</th>\n",
       "      <th>Roadway</th>\n",
       "    </tr>\n",
       "  </thead>\n",
       "  <tbody>\n",
       "    <tr>\n",
       "      <th>0</th>\n",
       "      <td>4051393</td>\n",
       "      <td>3/24/2015</td>\n",
       "      <td>11:47 AM</td>\n",
       "      <td>Non-fatal injury</td>\n",
       "      <td>Local police</td>\n",
       "      <td>SALISBURY STREET / WESTWOOD DRIVE</td>\n",
       "    </tr>\n",
       "    <tr>\n",
       "      <th>1</th>\n",
       "      <td>4051388</td>\n",
       "      <td>3/24/2015</td>\n",
       "      <td>2:25 PM</td>\n",
       "      <td>Property damage only (none injured)</td>\n",
       "      <td>Local police</td>\n",
       "      <td>CAMELOT DRIVE</td>\n",
       "    </tr>\n",
       "    <tr>\n",
       "      <th>2</th>\n",
       "      <td>4054884</td>\n",
       "      <td>2/26/2015</td>\n",
       "      <td>11:10 AM</td>\n",
       "      <td>Property damage only (none injured)</td>\n",
       "      <td>Local police</td>\n",
       "      <td>CHESTER STREET</td>\n",
       "    </tr>\n",
       "    <tr>\n",
       "      <th>3</th>\n",
       "      <td>2790347</td>\n",
       "      <td>11/1/2011</td>\n",
       "      <td>8:25 PM</td>\n",
       "      <td>Property damage only (none injured)</td>\n",
       "      <td>State police</td>\n",
       "      <td>Rte 190 S</td>\n",
       "    </tr>\n",
       "    <tr>\n",
       "      <th>4</th>\n",
       "      <td>4054867</td>\n",
       "      <td>2/26/2015</td>\n",
       "      <td>8:29 PM</td>\n",
       "      <td>Property damage only (none injured)</td>\n",
       "      <td>Local police</td>\n",
       "      <td>MOUNTAIN STREET WEST / BROOKS STREET</td>\n",
       "    </tr>\n",
       "  </tbody>\n",
       "</table>\n",
       "</div>"
      ],
      "text/plain": [
       "  Crash Number Crash Date Crash Time                       Crash Severity  \\\n",
       "0      4051393  3/24/2015   11:47 AM                     Non-fatal injury   \n",
       "1      4051388  3/24/2015    2:25 PM  Property damage only (none injured)   \n",
       "2      4054884  2/26/2015   11:10 AM  Property damage only (none injured)   \n",
       "3      2790347  11/1/2011    8:25 PM  Property damage only (none injured)   \n",
       "4      4054867  2/26/2015    8:29 PM  Property damage only (none injured)   \n",
       "\n",
       "  Police Agency                               Roadway  \n",
       "0  Local police     SALISBURY STREET / WESTWOOD DRIVE  \n",
       "1  Local police                         CAMELOT DRIVE  \n",
       "2  Local police                        CHESTER STREET  \n",
       "3  State police                             Rte 190 S  \n",
       "4  Local police  MOUNTAIN STREET WEST / BROOKS STREET  "
      ]
     },
     "execution_count": 122,
     "metadata": {},
     "output_type": "execute_result"
    }
   ],
   "source": [
    "df_worcrash.head(5)"
   ]
  },
  {
   "cell_type": "markdown",
   "metadata": {},
   "source": [
    "###Now, the data looks pretty good but it seems like it would be better if the crash time is in a 24 hour format\n",
    "since that would be better to graph."
   ]
  },
  {
   "cell_type": "code",
   "execution_count": 123,
   "metadata": {},
   "outputs": [],
   "source": [
    " #df_worcrash['Crash Date'] = pd.to_datetime(df_worcrash['Crash Date'])"
   ]
  },
  {
   "cell_type": "code",
   "execution_count": 124,
   "metadata": {},
   "outputs": [
    {
     "data": {
      "text/plain": [
       "0   2015-03-24\n",
       "1   2015-03-24\n",
       "2   2015-02-26\n",
       "3   2011-11-01\n",
       "4   2015-02-26\n",
       "Name: Crash Date, dtype: datetime64[ns]"
      ]
     },
     "execution_count": 124,
     "metadata": {},
     "output_type": "execute_result"
    }
   ],
   "source": [
    "#df_worcrash['Crash Date'].head(5)"
   ]
  },
  {
   "cell_type": "code",
   "execution_count": null,
   "metadata": {},
   "outputs": [],
   "source": []
  },
  {
   "cell_type": "markdown",
   "metadata": {},
   "source": [
    "###The pd.to_datetim gave me an error which seems to have found out that there is a time written as 00:98 AM and so I fixed it by changing the specific row. I could have looked at the whole dataset but it seems like there was only one so I just hard coded it."
   ]
  },
  {
   "cell_type": "code",
   "execution_count": 125,
   "metadata": {},
   "outputs": [],
   "source": [
    "df_worcrash.loc[df_worcrash['Crash Time'] == '00:98 AM', 'Crash Time' ] = '01:38 AM'"
   ]
  },
  {
   "cell_type": "code",
   "execution_count": 126,
   "metadata": {},
   "outputs": [
    {
     "data": {
      "text/html": [
       "<div>\n",
       "<style scoped>\n",
       "    .dataframe tbody tr th:only-of-type {\n",
       "        vertical-align: middle;\n",
       "    }\n",
       "\n",
       "    .dataframe tbody tr th {\n",
       "        vertical-align: top;\n",
       "    }\n",
       "\n",
       "    .dataframe thead th {\n",
       "        text-align: right;\n",
       "    }\n",
       "</style>\n",
       "<table border=\"1\" class=\"dataframe\">\n",
       "  <thead>\n",
       "    <tr style=\"text-align: right;\">\n",
       "      <th></th>\n",
       "      <th>Crash Number</th>\n",
       "      <th>Crash Date</th>\n",
       "      <th>Crash Time</th>\n",
       "      <th>Crash Severity</th>\n",
       "      <th>Police Agency</th>\n",
       "      <th>Roadway</th>\n",
       "    </tr>\n",
       "  </thead>\n",
       "  <tbody>\n",
       "    <tr>\n",
       "      <th>8</th>\n",
       "      <td>2791027</td>\n",
       "      <td>2010-07-01</td>\n",
       "      <td>01:38 AM</td>\n",
       "      <td>Not Reported</td>\n",
       "      <td>Local police</td>\n",
       "      <td>BLUEBELL ROAD</td>\n",
       "    </tr>\n",
       "  </tbody>\n",
       "</table>\n",
       "</div>"
      ],
      "text/plain": [
       "  Crash Number Crash Date Crash Time Crash Severity Police Agency  \\\n",
       "8      2791027 2010-07-01   01:38 AM   Not Reported  Local police   \n",
       "\n",
       "         Roadway  \n",
       "8  BLUEBELL ROAD  "
      ]
     },
     "execution_count": 126,
     "metadata": {},
     "output_type": "execute_result"
    }
   ],
   "source": [
    "df_worcrash.iloc[[8]]"
   ]
  },
  {
   "cell_type": "code",
   "execution_count": 129,
   "metadata": {
    "scrolled": true
   },
   "outputs": [
    {
     "data": {
      "text/plain": [
       "0       2018-08-27 11:47:00\n",
       "1       2018-08-27 14:25:00\n",
       "2       2018-08-27 11:10:00\n",
       "3       2018-08-27 20:25:00\n",
       "4       2018-08-27 20:29:00\n",
       "5       2018-08-27 15:58:00\n",
       "6       2018-08-27 13:00:00\n",
       "7       2018-08-27 22:00:00\n",
       "8       2018-08-27 01:38:00\n",
       "9       2018-08-27 10:30:00\n",
       "10      2018-08-27 23:28:00\n",
       "11      2018-08-27 10:39:00\n",
       "12      2018-08-27 06:02:00\n",
       "13      2018-08-27 11:00:00\n",
       "14      2018-08-27 11:15:00\n",
       "15      2018-08-27 23:30:00\n",
       "16      2018-08-27 16:30:00\n",
       "17      2018-08-27 00:19:00\n",
       "18      2018-08-27 14:14:00\n",
       "19      2018-08-27 15:04:00\n",
       "20      2018-08-27 08:21:00\n",
       "21      2018-08-27 08:20:00\n",
       "22      2018-08-27 11:00:00\n",
       "23      2018-08-27 10:00:00\n",
       "24      2018-08-27 11:36:00\n",
       "25      2018-08-27 23:50:00\n",
       "26      2018-08-27 12:10:00\n",
       "27      2018-08-27 13:15:00\n",
       "28      2018-08-27 09:20:00\n",
       "29      2018-08-27 18:10:00\n",
       "                ...        \n",
       "76007   2018-08-27 11:10:00\n",
       "76008   2018-08-27 21:13:00\n",
       "76009   2018-08-27 18:05:00\n",
       "76010   2018-08-27 16:24:00\n",
       "76011   2018-08-27 03:40:00\n",
       "76012   2018-08-27 13:00:00\n",
       "76013   2018-08-27 15:55:00\n",
       "76014   2018-08-27 18:33:00\n",
       "76015   2018-08-27 12:10:00\n",
       "76016   2018-08-27 18:00:00\n",
       "76017   2018-08-27 17:33:00\n",
       "76018   2018-08-27 15:19:00\n",
       "76019   2018-08-27 12:15:00\n",
       "76020   2018-08-27 12:46:00\n",
       "76021   2018-08-27 10:13:00\n",
       "76022   2018-08-27 04:45:00\n",
       "76023   2018-08-27 00:50:00\n",
       "76024   2018-08-27 08:59:00\n",
       "76025   2018-08-27 12:39:00\n",
       "76026   2018-08-27 13:29:00\n",
       "76027   2018-08-27 00:16:00\n",
       "76028   2018-08-27 08:45:00\n",
       "76029   2018-08-27 07:49:00\n",
       "76030   2018-08-27 08:20:00\n",
       "76031   2018-08-27 16:51:00\n",
       "76032   2018-08-27 09:15:00\n",
       "76033   2018-08-27 17:07:00\n",
       "76034   2018-08-27 17:10:00\n",
       "76035   2018-08-27 22:37:00\n",
       "76036   2018-08-27 13:20:00\n",
       "Name: Crash Time, Length: 151778, dtype: datetime64[ns]"
      ]
     },
     "execution_count": 129,
     "metadata": {},
     "output_type": "execute_result"
    }
   ],
   "source": [
    "pd.to_datetime(df_worcrash['Crash Time'])"
   ]
  },
  {
   "cell_type": "code",
   "execution_count": 128,
   "metadata": {},
   "outputs": [
    {
     "data": {
      "text/html": [
       "<div>\n",
       "<style scoped>\n",
       "    .dataframe tbody tr th:only-of-type {\n",
       "        vertical-align: middle;\n",
       "    }\n",
       "\n",
       "    .dataframe tbody tr th {\n",
       "        vertical-align: top;\n",
       "    }\n",
       "\n",
       "    .dataframe thead th {\n",
       "        text-align: right;\n",
       "    }\n",
       "</style>\n",
       "<table border=\"1\" class=\"dataframe\">\n",
       "  <thead>\n",
       "    <tr style=\"text-align: right;\">\n",
       "      <th></th>\n",
       "      <th>Crash Number</th>\n",
       "      <th>Crash Date</th>\n",
       "      <th>Crash Time</th>\n",
       "      <th>Crash Severity</th>\n",
       "      <th>Police Agency</th>\n",
       "      <th>Roadway</th>\n",
       "    </tr>\n",
       "  </thead>\n",
       "  <tbody>\n",
       "    <tr>\n",
       "      <th>0</th>\n",
       "      <td>4051393</td>\n",
       "      <td>2015-03-24</td>\n",
       "      <td>2018-08-27 11:47:00</td>\n",
       "      <td>Non-fatal injury</td>\n",
       "      <td>Local police</td>\n",
       "      <td>SALISBURY STREET / WESTWOOD DRIVE</td>\n",
       "    </tr>\n",
       "    <tr>\n",
       "      <th>1</th>\n",
       "      <td>4051388</td>\n",
       "      <td>2015-03-24</td>\n",
       "      <td>2018-08-27 14:25:00</td>\n",
       "      <td>Property damage only (none injured)</td>\n",
       "      <td>Local police</td>\n",
       "      <td>CAMELOT DRIVE</td>\n",
       "    </tr>\n",
       "    <tr>\n",
       "      <th>2</th>\n",
       "      <td>4054884</td>\n",
       "      <td>2015-02-26</td>\n",
       "      <td>2018-08-27 11:10:00</td>\n",
       "      <td>Property damage only (none injured)</td>\n",
       "      <td>Local police</td>\n",
       "      <td>CHESTER STREET</td>\n",
       "    </tr>\n",
       "    <tr>\n",
       "      <th>3</th>\n",
       "      <td>2790347</td>\n",
       "      <td>2011-11-01</td>\n",
       "      <td>2018-08-27 20:25:00</td>\n",
       "      <td>Property damage only (none injured)</td>\n",
       "      <td>State police</td>\n",
       "      <td>Rte 190 S</td>\n",
       "    </tr>\n",
       "    <tr>\n",
       "      <th>4</th>\n",
       "      <td>4054867</td>\n",
       "      <td>2015-02-26</td>\n",
       "      <td>2018-08-27 20:29:00</td>\n",
       "      <td>Property damage only (none injured)</td>\n",
       "      <td>Local police</td>\n",
       "      <td>MOUNTAIN STREET WEST / BROOKS STREET</td>\n",
       "    </tr>\n",
       "  </tbody>\n",
       "</table>\n",
       "</div>"
      ],
      "text/plain": [
       "  Crash Number Crash Date          Crash Time  \\\n",
       "0      4051393 2015-03-24 2018-08-27 11:47:00   \n",
       "1      4051388 2015-03-24 2018-08-27 14:25:00   \n",
       "2      4054884 2015-02-26 2018-08-27 11:10:00   \n",
       "3      2790347 2011-11-01 2018-08-27 20:25:00   \n",
       "4      4054867 2015-02-26 2018-08-27 20:29:00   \n",
       "\n",
       "                        Crash Severity Police Agency  \\\n",
       "0                     Non-fatal injury  Local police   \n",
       "1  Property damage only (none injured)  Local police   \n",
       "2  Property damage only (none injured)  Local police   \n",
       "3  Property damage only (none injured)  State police   \n",
       "4  Property damage only (none injured)  Local police   \n",
       "\n",
       "                                Roadway  \n",
       "0     SALISBURY STREET / WESTWOOD DRIVE  \n",
       "1                         CAMELOT DRIVE  \n",
       "2                        CHESTER STREET  \n",
       "3                             Rte 190 S  \n",
       "4  MOUNTAIN STREET WEST / BROOKS STREET  "
      ]
     },
     "execution_count": 128,
     "metadata": {},
     "output_type": "execute_result"
    }
   ],
   "source": [
    "df_worcrash.head(5)"
   ]
  },
  {
   "cell_type": "code",
   "execution_count": null,
   "metadata": {},
   "outputs": [],
   "source": []
  }
 ],
 "metadata": {
  "kernelspec": {
   "display_name": "Python 3",
   "language": "python",
   "name": "python3"
  },
  "language_info": {
   "codemirror_mode": {
    "name": "ipython",
    "version": 3
   },
   "file_extension": ".py",
   "mimetype": "text/x-python",
   "name": "python",
   "nbconvert_exporter": "python",
   "pygments_lexer": "ipython3",
   "version": "3.6.5"
  }
 },
 "nbformat": 4,
 "nbformat_minor": 2
}
