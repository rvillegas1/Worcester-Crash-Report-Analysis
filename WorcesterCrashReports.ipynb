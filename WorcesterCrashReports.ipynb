{
 "cells": [
  {
   "cell_type": "markdown",
   "metadata": {},
   "source": [
    "#Worcester Crash Reports"
   ]
  },
  {
   "cell_type": "markdown",
   "metadata": {},
   "source": [
    "This project is based on the vehicular crash reports from the Worcester County. Using the mapping tool from the MASSDOT [crash portal](http://services.massdot.state.ma.us/crashportal/CrashMapPage.aspx?Mode=Mapping). I tried to grab all the data I could get, but since you could only get 8000 results at once, I had to do it multiple times to get the entire city of Worcester's data."
   ]
  },
  {
   "cell_type": "code",
   "execution_count": 32,
   "metadata": {},
   "outputs": [],
   "source": [
    "%config Completer.use_jedi = False\n",
    "import pandas as pd #For Data Cleaning and Manipulation\n",
    "import matplotlib.pyplot as plt #Data analysis by plotting\n",
    "import glob #Used as a way to open all csv files that were collected\n",
    "import datetime #used to clean and better express the Date and Time features\n",
    "from matplotlib.dates import date2num\n",
    "import numpy as np"
   ]
  },
  {
   "cell_type": "markdown",
   "metadata": {},
   "source": [
    "Joining all csv files into one dataframe\n",
    "Since I had to download multiple csv files, I needed to combine all of them into one data. I could of open them one by one and assigning them to a dataframe, but I decided to look around for a solution into reading all the csv files and then concatinating it into a bigger csv file. I then decided to remove all the duplicates if there was any, so that we  wouldn't have repeated data."
   ]
  },
  {
   "cell_type": "code",
   "execution_count": 33,
   "metadata": {},
   "outputs": [],
   "source": [
    "worcester_crashreports = glob.glob(\"*.csv\") \n",
    "df = pd.concat((pd.read_csv(f, header = 0, low_memory=False) for f in worcester_crashreports), sort= False)\n",
    "df_worcrash = df.drop_duplicates()\n",
    "#df_worcrash.to_csv(\"Worces.csv\")"
   ]
  },
  {
   "cell_type": "code",
   "execution_count": 34,
   "metadata": {},
   "outputs": [
    {
     "data": {
      "text/html": [
       "<div>\n",
       "<style scoped>\n",
       "    .dataframe tbody tr th:only-of-type {\n",
       "        vertical-align: middle;\n",
       "    }\n",
       "\n",
       "    .dataframe tbody tr th {\n",
       "        vertical-align: top;\n",
       "    }\n",
       "\n",
       "    .dataframe thead th {\n",
       "        text-align: right;\n",
       "    }\n",
       "</style>\n",
       "<table border=\"1\" class=\"dataframe\">\n",
       "  <thead>\n",
       "    <tr style=\"text-align: right;\">\n",
       "      <th></th>\n",
       "      <th>Crash Number</th>\n",
       "      <th>Crash Date</th>\n",
       "      <th>Crash Time</th>\n",
       "      <th>City/Town</th>\n",
       "      <th>Crash Severity</th>\n",
       "      <th>Roadway</th>\n",
       "      <th>Near Intersection Roadway</th>\n",
       "      <th>Landmark</th>\n",
       "      <th>Police Agency</th>\n",
       "      <th>Unnamed: 0</th>\n",
       "    </tr>\n",
       "  </thead>\n",
       "  <tbody>\n",
       "    <tr>\n",
       "      <th>0</th>\n",
       "      <td>4051393</td>\n",
       "      <td>3/24/2015</td>\n",
       "      <td>11:47 AM</td>\n",
       "      <td>WORCESTER</td>\n",
       "      <td>Non-fatal injury</td>\n",
       "      <td>SALISBURY STREET / WESTWOOD DRIVE</td>\n",
       "      <td>NaN</td>\n",
       "      <td>NaN</td>\n",
       "      <td>Local police</td>\n",
       "      <td>NaN</td>\n",
       "    </tr>\n",
       "    <tr>\n",
       "      <th>1</th>\n",
       "      <td>4051388</td>\n",
       "      <td>3/24/2015</td>\n",
       "      <td>2:25 PM</td>\n",
       "      <td>WORCESTER</td>\n",
       "      <td>Property damage only (none injured)</td>\n",
       "      <td>CAMELOT DRIVE</td>\n",
       "      <td>NaN</td>\n",
       "      <td>NaN</td>\n",
       "      <td>Local police</td>\n",
       "      <td>NaN</td>\n",
       "    </tr>\n",
       "    <tr>\n",
       "      <th>2</th>\n",
       "      <td>4054884</td>\n",
       "      <td>2/26/2015</td>\n",
       "      <td>11:10 AM</td>\n",
       "      <td>WORCESTER</td>\n",
       "      <td>Property damage only (none injured)</td>\n",
       "      <td>CHESTER STREET</td>\n",
       "      <td>NaN</td>\n",
       "      <td>NaN</td>\n",
       "      <td>Local police</td>\n",
       "      <td>NaN</td>\n",
       "    </tr>\n",
       "    <tr>\n",
       "      <th>3</th>\n",
       "      <td>2790347</td>\n",
       "      <td>11/1/2011</td>\n",
       "      <td>8:25 PM</td>\n",
       "      <td>WORCESTER</td>\n",
       "      <td>Property damage only (none injured)</td>\n",
       "      <td>Rte 190 S</td>\n",
       "      <td>NaN</td>\n",
       "      <td>NaN</td>\n",
       "      <td>State police</td>\n",
       "      <td>NaN</td>\n",
       "    </tr>\n",
       "    <tr>\n",
       "      <th>4</th>\n",
       "      <td>4054867</td>\n",
       "      <td>2/26/2015</td>\n",
       "      <td>8:29 PM</td>\n",
       "      <td>WORCESTER</td>\n",
       "      <td>Property damage only (none injured)</td>\n",
       "      <td>MOUNTAIN STREET WEST / BROOKS STREET</td>\n",
       "      <td>NaN</td>\n",
       "      <td>NaN</td>\n",
       "      <td>Local police</td>\n",
       "      <td>NaN</td>\n",
       "    </tr>\n",
       "  </tbody>\n",
       "</table>\n",
       "</div>"
      ],
      "text/plain": [
       "  Crash Number Crash Date Crash Time  City/Town  \\\n",
       "0      4051393  3/24/2015   11:47 AM  WORCESTER   \n",
       "1      4051388  3/24/2015    2:25 PM  WORCESTER   \n",
       "2      4054884  2/26/2015   11:10 AM  WORCESTER   \n",
       "3      2790347  11/1/2011    8:25 PM  WORCESTER   \n",
       "4      4054867  2/26/2015    8:29 PM  WORCESTER   \n",
       "\n",
       "                        Crash Severity                               Roadway  \\\n",
       "0                     Non-fatal injury     SALISBURY STREET / WESTWOOD DRIVE   \n",
       "1  Property damage only (none injured)                         CAMELOT DRIVE   \n",
       "2  Property damage only (none injured)                        CHESTER STREET   \n",
       "3  Property damage only (none injured)                             Rte 190 S   \n",
       "4  Property damage only (none injured)  MOUNTAIN STREET WEST / BROOKS STREET   \n",
       "\n",
       "  Near Intersection Roadway Landmark Police Agency  Unnamed: 0  \n",
       "0                       NaN      NaN  Local police         NaN  \n",
       "1                       NaN      NaN  Local police         NaN  \n",
       "2                       NaN      NaN  Local police         NaN  \n",
       "3                       NaN      NaN  State police         NaN  \n",
       "4                       NaN      NaN  Local police         NaN  "
      ]
     },
     "execution_count": 34,
     "metadata": {},
     "output_type": "execute_result"
    }
   ],
   "source": [
    "df_worcrash.head(5) #Just looking at what our data looks like."
   ]
  },
  {
   "cell_type": "markdown",
   "metadata": {},
   "source": [
    "##Data Cleaning and Manipulation"
   ]
  },
  {
   "cell_type": "markdown",
   "metadata": {},
   "source": [
    "Renaming the Columns for easier syntax"
   ]
  },
  {
   "cell_type": "code",
   "execution_count": 35,
   "metadata": {},
   "outputs": [],
   "source": [
    "df_worcrash = df.rename(columns = {'Crash Date':'CrashDate','Crash Time':'CrashTime', 'Crash Severity':'CrashSev', 'Police Agency':'PoliceAgency'})"
   ]
  },
  {
   "cell_type": "code",
   "execution_count": 36,
   "metadata": {
    "scrolled": true
   },
   "outputs": [
    {
     "data": {
      "text/html": [
       "<div>\n",
       "<style scoped>\n",
       "    .dataframe tbody tr th:only-of-type {\n",
       "        vertical-align: middle;\n",
       "    }\n",
       "\n",
       "    .dataframe tbody tr th {\n",
       "        vertical-align: top;\n",
       "    }\n",
       "\n",
       "    .dataframe thead th {\n",
       "        text-align: right;\n",
       "    }\n",
       "</style>\n",
       "<table border=\"1\" class=\"dataframe\">\n",
       "  <thead>\n",
       "    <tr style=\"text-align: right;\">\n",
       "      <th></th>\n",
       "      <th>Crash Number</th>\n",
       "      <th>CrashDate</th>\n",
       "      <th>CrashTime</th>\n",
       "      <th>City/Town</th>\n",
       "      <th>CrashSev</th>\n",
       "      <th>Roadway</th>\n",
       "      <th>Near Intersection Roadway</th>\n",
       "      <th>Landmark</th>\n",
       "      <th>PoliceAgency</th>\n",
       "      <th>Unnamed: 0</th>\n",
       "    </tr>\n",
       "  </thead>\n",
       "  <tbody>\n",
       "    <tr>\n",
       "      <th>0</th>\n",
       "      <td>4051393</td>\n",
       "      <td>3/24/2015</td>\n",
       "      <td>11:47 AM</td>\n",
       "      <td>WORCESTER</td>\n",
       "      <td>Non-fatal injury</td>\n",
       "      <td>SALISBURY STREET / WESTWOOD DRIVE</td>\n",
       "      <td>NaN</td>\n",
       "      <td>NaN</td>\n",
       "      <td>Local police</td>\n",
       "      <td>NaN</td>\n",
       "    </tr>\n",
       "    <tr>\n",
       "      <th>1</th>\n",
       "      <td>4051388</td>\n",
       "      <td>3/24/2015</td>\n",
       "      <td>2:25 PM</td>\n",
       "      <td>WORCESTER</td>\n",
       "      <td>Property damage only (none injured)</td>\n",
       "      <td>CAMELOT DRIVE</td>\n",
       "      <td>NaN</td>\n",
       "      <td>NaN</td>\n",
       "      <td>Local police</td>\n",
       "      <td>NaN</td>\n",
       "    </tr>\n",
       "    <tr>\n",
       "      <th>2</th>\n",
       "      <td>4054884</td>\n",
       "      <td>2/26/2015</td>\n",
       "      <td>11:10 AM</td>\n",
       "      <td>WORCESTER</td>\n",
       "      <td>Property damage only (none injured)</td>\n",
       "      <td>CHESTER STREET</td>\n",
       "      <td>NaN</td>\n",
       "      <td>NaN</td>\n",
       "      <td>Local police</td>\n",
       "      <td>NaN</td>\n",
       "    </tr>\n",
       "    <tr>\n",
       "      <th>3</th>\n",
       "      <td>2790347</td>\n",
       "      <td>11/1/2011</td>\n",
       "      <td>8:25 PM</td>\n",
       "      <td>WORCESTER</td>\n",
       "      <td>Property damage only (none injured)</td>\n",
       "      <td>Rte 190 S</td>\n",
       "      <td>NaN</td>\n",
       "      <td>NaN</td>\n",
       "      <td>State police</td>\n",
       "      <td>NaN</td>\n",
       "    </tr>\n",
       "    <tr>\n",
       "      <th>4</th>\n",
       "      <td>4054867</td>\n",
       "      <td>2/26/2015</td>\n",
       "      <td>8:29 PM</td>\n",
       "      <td>WORCESTER</td>\n",
       "      <td>Property damage only (none injured)</td>\n",
       "      <td>MOUNTAIN STREET WEST / BROOKS STREET</td>\n",
       "      <td>NaN</td>\n",
       "      <td>NaN</td>\n",
       "      <td>Local police</td>\n",
       "      <td>NaN</td>\n",
       "    </tr>\n",
       "    <tr>\n",
       "      <th>5</th>\n",
       "      <td>4055722</td>\n",
       "      <td>2/19/2015</td>\n",
       "      <td>3:58 PM</td>\n",
       "      <td>WORCESTER</td>\n",
       "      <td>Property damage only (none injured)</td>\n",
       "      <td>CHESTER STREET</td>\n",
       "      <td>NaN</td>\n",
       "      <td>NaN</td>\n",
       "      <td>Local police</td>\n",
       "      <td>NaN</td>\n",
       "    </tr>\n",
       "    <tr>\n",
       "      <th>6</th>\n",
       "      <td>4055774</td>\n",
       "      <td>5/17/2015</td>\n",
       "      <td>1:00 PM</td>\n",
       "      <td>WORCESTER</td>\n",
       "      <td>Non-fatal injury</td>\n",
       "      <td>WEST BOYLSTON STREET / WEST BOYLSTON DRIVE</td>\n",
       "      <td>NaN</td>\n",
       "      <td>NaN</td>\n",
       "      <td>Local police</td>\n",
       "      <td>NaN</td>\n",
       "    </tr>\n",
       "    <tr>\n",
       "      <th>7</th>\n",
       "      <td>2790266</td>\n",
       "      <td>11/1/2011</td>\n",
       "      <td>10:00 PM</td>\n",
       "      <td>WORCESTER</td>\n",
       "      <td>Non-fatal injury</td>\n",
       "      <td>Rte 190 N</td>\n",
       "      <td>NaN</td>\n",
       "      <td>NaN</td>\n",
       "      <td>State police</td>\n",
       "      <td>NaN</td>\n",
       "    </tr>\n",
       "    <tr>\n",
       "      <th>8</th>\n",
       "      <td>2791027</td>\n",
       "      <td>7/1/2010</td>\n",
       "      <td>00:98 AM</td>\n",
       "      <td>WORCESTER</td>\n",
       "      <td>Not Reported</td>\n",
       "      <td>BLUEBELL ROAD</td>\n",
       "      <td>NaN</td>\n",
       "      <td>NaN</td>\n",
       "      <td>Local police</td>\n",
       "      <td>NaN</td>\n",
       "    </tr>\n",
       "  </tbody>\n",
       "</table>\n",
       "</div>"
      ],
      "text/plain": [
       "  Crash Number  CrashDate CrashTime  City/Town  \\\n",
       "0      4051393  3/24/2015  11:47 AM  WORCESTER   \n",
       "1      4051388  3/24/2015   2:25 PM  WORCESTER   \n",
       "2      4054884  2/26/2015  11:10 AM  WORCESTER   \n",
       "3      2790347  11/1/2011   8:25 PM  WORCESTER   \n",
       "4      4054867  2/26/2015   8:29 PM  WORCESTER   \n",
       "5      4055722  2/19/2015   3:58 PM  WORCESTER   \n",
       "6      4055774  5/17/2015   1:00 PM  WORCESTER   \n",
       "7      2790266  11/1/2011  10:00 PM  WORCESTER   \n",
       "8      2791027   7/1/2010  00:98 AM  WORCESTER   \n",
       "\n",
       "                              CrashSev  \\\n",
       "0                     Non-fatal injury   \n",
       "1  Property damage only (none injured)   \n",
       "2  Property damage only (none injured)   \n",
       "3  Property damage only (none injured)   \n",
       "4  Property damage only (none injured)   \n",
       "5  Property damage only (none injured)   \n",
       "6                     Non-fatal injury   \n",
       "7                     Non-fatal injury   \n",
       "8                         Not Reported   \n",
       "\n",
       "                                      Roadway Near Intersection Roadway  \\\n",
       "0           SALISBURY STREET / WESTWOOD DRIVE                       NaN   \n",
       "1                               CAMELOT DRIVE                       NaN   \n",
       "2                              CHESTER STREET                       NaN   \n",
       "3                                   Rte 190 S                       NaN   \n",
       "4        MOUNTAIN STREET WEST / BROOKS STREET                       NaN   \n",
       "5                              CHESTER STREET                       NaN   \n",
       "6  WEST BOYLSTON STREET / WEST BOYLSTON DRIVE                       NaN   \n",
       "7                                   Rte 190 N                       NaN   \n",
       "8                               BLUEBELL ROAD                       NaN   \n",
       "\n",
       "  Landmark  PoliceAgency  Unnamed: 0  \n",
       "0      NaN  Local police         NaN  \n",
       "1      NaN  Local police         NaN  \n",
       "2      NaN  Local police         NaN  \n",
       "3      NaN  State police         NaN  \n",
       "4      NaN  Local police         NaN  \n",
       "5      NaN  Local police         NaN  \n",
       "6      NaN  Local police         NaN  \n",
       "7      NaN  State police         NaN  \n",
       "8      NaN  Local police         NaN  "
      ]
     },
     "execution_count": 36,
     "metadata": {},
     "output_type": "execute_result"
    }
   ],
   "source": [
    "df_worcrash.head(9)"
   ]
  },
  {
   "cell_type": "markdown",
   "metadata": {},
   "source": [
    "Checking whether I grabbed some data from other towns"
   ]
  },
  {
   "cell_type": "code",
   "execution_count": 37,
   "metadata": {},
   "outputs": [
    {
     "data": {
      "text/plain": [
       "array(['WORCESTER', 'WEST BOYLSTON', 'HOLDEN', 'GRAFTON', nan,\n",
       "       'SHREWSBURY', 'HUDSON', 'LEICESTER', 'MILLBURY', 'AUBURN',\n",
       "       'LEOMINSTER'], dtype=object)"
      ]
     },
     "execution_count": 37,
     "metadata": {},
     "output_type": "execute_result"
    }
   ],
   "source": [
    "df_worcrash['City/Town'].unique()"
   ]
  },
  {
   "cell_type": "code",
   "execution_count": 38,
   "metadata": {},
   "outputs": [],
   "source": [
    "df_worcrash = df_worcrash[df_worcrash['City/Town'] == 'WORCESTER'] #Only selecting Worcester from the files"
   ]
  },
  {
   "cell_type": "code",
   "execution_count": 39,
   "metadata": {},
   "outputs": [
    {
     "data": {
      "text/html": [
       "<div>\n",
       "<style scoped>\n",
       "    .dataframe tbody tr th:only-of-type {\n",
       "        vertical-align: middle;\n",
       "    }\n",
       "\n",
       "    .dataframe tbody tr th {\n",
       "        vertical-align: top;\n",
       "    }\n",
       "\n",
       "    .dataframe thead th {\n",
       "        text-align: right;\n",
       "    }\n",
       "</style>\n",
       "<table border=\"1\" class=\"dataframe\">\n",
       "  <thead>\n",
       "    <tr style=\"text-align: right;\">\n",
       "      <th></th>\n",
       "      <th>Crash Number</th>\n",
       "      <th>CrashDate</th>\n",
       "      <th>CrashTime</th>\n",
       "      <th>City/Town</th>\n",
       "      <th>CrashSev</th>\n",
       "      <th>Roadway</th>\n",
       "      <th>Near Intersection Roadway</th>\n",
       "      <th>Landmark</th>\n",
       "      <th>PoliceAgency</th>\n",
       "      <th>Unnamed: 0</th>\n",
       "    </tr>\n",
       "  </thead>\n",
       "  <tbody>\n",
       "    <tr>\n",
       "      <th>0</th>\n",
       "      <td>4051393</td>\n",
       "      <td>3/24/2015</td>\n",
       "      <td>11:47 AM</td>\n",
       "      <td>WORCESTER</td>\n",
       "      <td>Non-fatal injury</td>\n",
       "      <td>SALISBURY STREET / WESTWOOD DRIVE</td>\n",
       "      <td>NaN</td>\n",
       "      <td>NaN</td>\n",
       "      <td>Local police</td>\n",
       "      <td>NaN</td>\n",
       "    </tr>\n",
       "    <tr>\n",
       "      <th>1</th>\n",
       "      <td>4051388</td>\n",
       "      <td>3/24/2015</td>\n",
       "      <td>2:25 PM</td>\n",
       "      <td>WORCESTER</td>\n",
       "      <td>Property damage only (none injured)</td>\n",
       "      <td>CAMELOT DRIVE</td>\n",
       "      <td>NaN</td>\n",
       "      <td>NaN</td>\n",
       "      <td>Local police</td>\n",
       "      <td>NaN</td>\n",
       "    </tr>\n",
       "    <tr>\n",
       "      <th>2</th>\n",
       "      <td>4054884</td>\n",
       "      <td>2/26/2015</td>\n",
       "      <td>11:10 AM</td>\n",
       "      <td>WORCESTER</td>\n",
       "      <td>Property damage only (none injured)</td>\n",
       "      <td>CHESTER STREET</td>\n",
       "      <td>NaN</td>\n",
       "      <td>NaN</td>\n",
       "      <td>Local police</td>\n",
       "      <td>NaN</td>\n",
       "    </tr>\n",
       "    <tr>\n",
       "      <th>3</th>\n",
       "      <td>2790347</td>\n",
       "      <td>11/1/2011</td>\n",
       "      <td>8:25 PM</td>\n",
       "      <td>WORCESTER</td>\n",
       "      <td>Property damage only (none injured)</td>\n",
       "      <td>Rte 190 S</td>\n",
       "      <td>NaN</td>\n",
       "      <td>NaN</td>\n",
       "      <td>State police</td>\n",
       "      <td>NaN</td>\n",
       "    </tr>\n",
       "    <tr>\n",
       "      <th>4</th>\n",
       "      <td>4054867</td>\n",
       "      <td>2/26/2015</td>\n",
       "      <td>8:29 PM</td>\n",
       "      <td>WORCESTER</td>\n",
       "      <td>Property damage only (none injured)</td>\n",
       "      <td>MOUNTAIN STREET WEST / BROOKS STREET</td>\n",
       "      <td>NaN</td>\n",
       "      <td>NaN</td>\n",
       "      <td>Local police</td>\n",
       "      <td>NaN</td>\n",
       "    </tr>\n",
       "  </tbody>\n",
       "</table>\n",
       "</div>"
      ],
      "text/plain": [
       "  Crash Number  CrashDate CrashTime  City/Town  \\\n",
       "0      4051393  3/24/2015  11:47 AM  WORCESTER   \n",
       "1      4051388  3/24/2015   2:25 PM  WORCESTER   \n",
       "2      4054884  2/26/2015  11:10 AM  WORCESTER   \n",
       "3      2790347  11/1/2011   8:25 PM  WORCESTER   \n",
       "4      4054867  2/26/2015   8:29 PM  WORCESTER   \n",
       "\n",
       "                              CrashSev                               Roadway  \\\n",
       "0                     Non-fatal injury     SALISBURY STREET / WESTWOOD DRIVE   \n",
       "1  Property damage only (none injured)                         CAMELOT DRIVE   \n",
       "2  Property damage only (none injured)                        CHESTER STREET   \n",
       "3  Property damage only (none injured)                             Rte 190 S   \n",
       "4  Property damage only (none injured)  MOUNTAIN STREET WEST / BROOKS STREET   \n",
       "\n",
       "  Near Intersection Roadway Landmark  PoliceAgency  Unnamed: 0  \n",
       "0                       NaN      NaN  Local police         NaN  \n",
       "1                       NaN      NaN  Local police         NaN  \n",
       "2                       NaN      NaN  Local police         NaN  \n",
       "3                       NaN      NaN  State police         NaN  \n",
       "4                       NaN      NaN  Local police         NaN  "
      ]
     },
     "execution_count": 39,
     "metadata": {},
     "output_type": "execute_result"
    }
   ],
   "source": [
    "df_worcrash.head(5) #This is what the data looks like now."
   ]
  },
  {
   "cell_type": "markdown",
   "metadata": {},
   "source": [
    "Changing our data set and only selecting specific columns. Seems like were not gonna need the City/Town, Landmark and Near Intersection Roadway features since its mostly not available."
   ]
  },
  {
   "cell_type": "code",
   "execution_count": 40,
   "metadata": {},
   "outputs": [],
   "source": [
    "df_worcrash = df_worcrash[[ 'CrashDate','CrashTime', 'CrashSev','PoliceAgency','Roadway']]"
   ]
  },
  {
   "cell_type": "code",
   "execution_count": 41,
   "metadata": {
    "scrolled": true
   },
   "outputs": [
    {
     "data": {
      "text/html": [
       "<div>\n",
       "<style scoped>\n",
       "    .dataframe tbody tr th:only-of-type {\n",
       "        vertical-align: middle;\n",
       "    }\n",
       "\n",
       "    .dataframe tbody tr th {\n",
       "        vertical-align: top;\n",
       "    }\n",
       "\n",
       "    .dataframe thead th {\n",
       "        text-align: right;\n",
       "    }\n",
       "</style>\n",
       "<table border=\"1\" class=\"dataframe\">\n",
       "  <thead>\n",
       "    <tr style=\"text-align: right;\">\n",
       "      <th></th>\n",
       "      <th>CrashDate</th>\n",
       "      <th>CrashTime</th>\n",
       "      <th>CrashSev</th>\n",
       "      <th>PoliceAgency</th>\n",
       "      <th>Roadway</th>\n",
       "    </tr>\n",
       "  </thead>\n",
       "  <tbody>\n",
       "    <tr>\n",
       "      <th>0</th>\n",
       "      <td>3/24/2015</td>\n",
       "      <td>11:47 AM</td>\n",
       "      <td>Non-fatal injury</td>\n",
       "      <td>Local police</td>\n",
       "      <td>SALISBURY STREET / WESTWOOD DRIVE</td>\n",
       "    </tr>\n",
       "    <tr>\n",
       "      <th>1</th>\n",
       "      <td>3/24/2015</td>\n",
       "      <td>2:25 PM</td>\n",
       "      <td>Property damage only (none injured)</td>\n",
       "      <td>Local police</td>\n",
       "      <td>CAMELOT DRIVE</td>\n",
       "    </tr>\n",
       "    <tr>\n",
       "      <th>2</th>\n",
       "      <td>2/26/2015</td>\n",
       "      <td>11:10 AM</td>\n",
       "      <td>Property damage only (none injured)</td>\n",
       "      <td>Local police</td>\n",
       "      <td>CHESTER STREET</td>\n",
       "    </tr>\n",
       "    <tr>\n",
       "      <th>3</th>\n",
       "      <td>11/1/2011</td>\n",
       "      <td>8:25 PM</td>\n",
       "      <td>Property damage only (none injured)</td>\n",
       "      <td>State police</td>\n",
       "      <td>Rte 190 S</td>\n",
       "    </tr>\n",
       "    <tr>\n",
       "      <th>4</th>\n",
       "      <td>2/26/2015</td>\n",
       "      <td>8:29 PM</td>\n",
       "      <td>Property damage only (none injured)</td>\n",
       "      <td>Local police</td>\n",
       "      <td>MOUNTAIN STREET WEST / BROOKS STREET</td>\n",
       "    </tr>\n",
       "    <tr>\n",
       "      <th>5</th>\n",
       "      <td>2/19/2015</td>\n",
       "      <td>3:58 PM</td>\n",
       "      <td>Property damage only (none injured)</td>\n",
       "      <td>Local police</td>\n",
       "      <td>CHESTER STREET</td>\n",
       "    </tr>\n",
       "    <tr>\n",
       "      <th>6</th>\n",
       "      <td>5/17/2015</td>\n",
       "      <td>1:00 PM</td>\n",
       "      <td>Non-fatal injury</td>\n",
       "      <td>Local police</td>\n",
       "      <td>WEST BOYLSTON STREET / WEST BOYLSTON DRIVE</td>\n",
       "    </tr>\n",
       "    <tr>\n",
       "      <th>7</th>\n",
       "      <td>11/1/2011</td>\n",
       "      <td>10:00 PM</td>\n",
       "      <td>Non-fatal injury</td>\n",
       "      <td>State police</td>\n",
       "      <td>Rte 190 N</td>\n",
       "    </tr>\n",
       "    <tr>\n",
       "      <th>8</th>\n",
       "      <td>7/1/2010</td>\n",
       "      <td>00:98 AM</td>\n",
       "      <td>Not Reported</td>\n",
       "      <td>Local police</td>\n",
       "      <td>BLUEBELL ROAD</td>\n",
       "    </tr>\n",
       "    <tr>\n",
       "      <th>9</th>\n",
       "      <td>5/19/2010</td>\n",
       "      <td>10:30 AM</td>\n",
       "      <td>Property damage only (none injured)</td>\n",
       "      <td>Local police</td>\n",
       "      <td>WEST BOYLSTON STREET</td>\n",
       "    </tr>\n",
       "  </tbody>\n",
       "</table>\n",
       "</div>"
      ],
      "text/plain": [
       "   CrashDate CrashTime                             CrashSev  PoliceAgency  \\\n",
       "0  3/24/2015  11:47 AM                     Non-fatal injury  Local police   \n",
       "1  3/24/2015   2:25 PM  Property damage only (none injured)  Local police   \n",
       "2  2/26/2015  11:10 AM  Property damage only (none injured)  Local police   \n",
       "3  11/1/2011   8:25 PM  Property damage only (none injured)  State police   \n",
       "4  2/26/2015   8:29 PM  Property damage only (none injured)  Local police   \n",
       "5  2/19/2015   3:58 PM  Property damage only (none injured)  Local police   \n",
       "6  5/17/2015   1:00 PM                     Non-fatal injury  Local police   \n",
       "7  11/1/2011  10:00 PM                     Non-fatal injury  State police   \n",
       "8   7/1/2010  00:98 AM                         Not Reported  Local police   \n",
       "9  5/19/2010  10:30 AM  Property damage only (none injured)  Local police   \n",
       "\n",
       "                                      Roadway  \n",
       "0           SALISBURY STREET / WESTWOOD DRIVE  \n",
       "1                               CAMELOT DRIVE  \n",
       "2                              CHESTER STREET  \n",
       "3                                   Rte 190 S  \n",
       "4        MOUNTAIN STREET WEST / BROOKS STREET  \n",
       "5                              CHESTER STREET  \n",
       "6  WEST BOYLSTON STREET / WEST BOYLSTON DRIVE  \n",
       "7                                   Rte 190 N  \n",
       "8                               BLUEBELL ROAD  \n",
       "9                        WEST BOYLSTON STREET  "
      ]
     },
     "execution_count": 41,
     "metadata": {},
     "output_type": "execute_result"
    }
   ],
   "source": [
    "df_worcrash.head(10)"
   ]
  },
  {
   "cell_type": "markdown",
   "metadata": {},
   "source": [
    "Looking at the data, I noticed some of them have a time '00:98' which doesn't not make sense, so I turned them to '1:30'"
   ]
  },
  {
   "cell_type": "code",
   "execution_count": 42,
   "metadata": {},
   "outputs": [],
   "source": [
    "df_worcrash.loc[df_worcrash['CrashTime'] == '00:98 AM', 'CrashTime' ] = '01:30 AM'"
   ]
  },
  {
   "cell_type": "markdown",
   "metadata": {},
   "source": [
    "Combining the CrashDate and CrashTime to make a datetime property"
   ]
  },
  {
   "cell_type": "code",
   "execution_count": 43,
   "metadata": {},
   "outputs": [
    {
     "data": {
      "text/html": [
       "<div>\n",
       "<style scoped>\n",
       "    .dataframe tbody tr th:only-of-type {\n",
       "        vertical-align: middle;\n",
       "    }\n",
       "\n",
       "    .dataframe tbody tr th {\n",
       "        vertical-align: top;\n",
       "    }\n",
       "\n",
       "    .dataframe thead th {\n",
       "        text-align: right;\n",
       "    }\n",
       "</style>\n",
       "<table border=\"1\" class=\"dataframe\">\n",
       "  <thead>\n",
       "    <tr style=\"text-align: right;\">\n",
       "      <th></th>\n",
       "      <th>CrashDate</th>\n",
       "      <th>CrashTime</th>\n",
       "      <th>CrashSev</th>\n",
       "      <th>PoliceAgency</th>\n",
       "      <th>Roadway</th>\n",
       "      <th>CrashDT</th>\n",
       "    </tr>\n",
       "  </thead>\n",
       "  <tbody>\n",
       "    <tr>\n",
       "      <th>0</th>\n",
       "      <td>3/24/2015</td>\n",
       "      <td>11:47 AM</td>\n",
       "      <td>Non-fatal injury</td>\n",
       "      <td>Local police</td>\n",
       "      <td>SALISBURY STREET / WESTWOOD DRIVE</td>\n",
       "      <td>3/24/2015 11:47 AM</td>\n",
       "    </tr>\n",
       "    <tr>\n",
       "      <th>1</th>\n",
       "      <td>3/24/2015</td>\n",
       "      <td>2:25 PM</td>\n",
       "      <td>Property damage only (none injured)</td>\n",
       "      <td>Local police</td>\n",
       "      <td>CAMELOT DRIVE</td>\n",
       "      <td>3/24/2015 2:25 PM</td>\n",
       "    </tr>\n",
       "    <tr>\n",
       "      <th>2</th>\n",
       "      <td>2/26/2015</td>\n",
       "      <td>11:10 AM</td>\n",
       "      <td>Property damage only (none injured)</td>\n",
       "      <td>Local police</td>\n",
       "      <td>CHESTER STREET</td>\n",
       "      <td>2/26/2015 11:10 AM</td>\n",
       "    </tr>\n",
       "    <tr>\n",
       "      <th>3</th>\n",
       "      <td>11/1/2011</td>\n",
       "      <td>8:25 PM</td>\n",
       "      <td>Property damage only (none injured)</td>\n",
       "      <td>State police</td>\n",
       "      <td>Rte 190 S</td>\n",
       "      <td>11/1/2011 8:25 PM</td>\n",
       "    </tr>\n",
       "    <tr>\n",
       "      <th>4</th>\n",
       "      <td>2/26/2015</td>\n",
       "      <td>8:29 PM</td>\n",
       "      <td>Property damage only (none injured)</td>\n",
       "      <td>Local police</td>\n",
       "      <td>MOUNTAIN STREET WEST / BROOKS STREET</td>\n",
       "      <td>2/26/2015 8:29 PM</td>\n",
       "    </tr>\n",
       "  </tbody>\n",
       "</table>\n",
       "</div>"
      ],
      "text/plain": [
       "   CrashDate CrashTime                             CrashSev  PoliceAgency  \\\n",
       "0  3/24/2015  11:47 AM                     Non-fatal injury  Local police   \n",
       "1  3/24/2015   2:25 PM  Property damage only (none injured)  Local police   \n",
       "2  2/26/2015  11:10 AM  Property damage only (none injured)  Local police   \n",
       "3  11/1/2011   8:25 PM  Property damage only (none injured)  State police   \n",
       "4  2/26/2015   8:29 PM  Property damage only (none injured)  Local police   \n",
       "\n",
       "                                Roadway             CrashDT  \n",
       "0     SALISBURY STREET / WESTWOOD DRIVE  3/24/2015 11:47 AM  \n",
       "1                         CAMELOT DRIVE   3/24/2015 2:25 PM  \n",
       "2                        CHESTER STREET  2/26/2015 11:10 AM  \n",
       "3                             Rte 190 S   11/1/2011 8:25 PM  \n",
       "4  MOUNTAIN STREET WEST / BROOKS STREET   2/26/2015 8:29 PM  "
      ]
     },
     "execution_count": 43,
     "metadata": {},
     "output_type": "execute_result"
    }
   ],
   "source": [
    "df_worcrash['CrashDT'] = df_worcrash['CrashDate'] + ' ' + df_worcrash['CrashTime']\n",
    "df_worcrash.head(5)"
   ]
  },
  {
   "cell_type": "code",
   "execution_count": 44,
   "metadata": {},
   "outputs": [],
   "source": [
    "df_worcrash['CrashDT'] = pd.to_datetime(df_worcrash['CrashDT'], format = '%m/%d/%Y %I:%M %p')"
   ]
  },
  {
   "cell_type": "markdown",
   "metadata": {},
   "source": [
    "It might also be helpful to know the days of the week for our analysis.\n",
    "Checking how far the records where could also help us down the road."
   ]
  },
  {
   "cell_type": "code",
   "execution_count": 45,
   "metadata": {},
   "outputs": [],
   "source": [
    "df_worcrash['DayOfWeek'] = df_worcrash['CrashDT'].dt.weekday"
   ]
  },
  {
   "cell_type": "code",
   "execution_count": 46,
   "metadata": {},
   "outputs": [
    {
     "name": "stdout",
     "output_type": "stream",
     "text": [
      "1966-11-08 15:45:00\n",
      "2016-12-31 23:00:00\n"
     ]
    }
   ],
   "source": [
    "df_worcrash = df_worcrash[['CrashDT', 'DayOfWeek', 'CrashSev', 'PoliceAgency', 'Roadway']] #Just another clean up. This looks much better now.\n",
    "df_worcrash.head(5)\n",
    "print( min(df_worcrash['CrashDT']) )\n",
    "print( max(df_worcrash['CrashDT']) )"
   ]
  },
  {
   "cell_type": "markdown",
   "metadata": {},
   "source": [
    "Now let us look if we have any other data that is not available. It seems like we have datas that are not available in the Police Agency and Roadway. This would help us later on while doing Data Analysis."
   ]
  },
  {
   "cell_type": "code",
   "execution_count": 47,
   "metadata": {},
   "outputs": [
    {
     "data": {
      "text/plain": [
       "CrashDT         False\n",
       "DayOfWeek       False\n",
       "CrashSev        False\n",
       "PoliceAgency     True\n",
       "Roadway          True\n",
       "dtype: bool"
      ]
     },
     "execution_count": 47,
     "metadata": {},
     "output_type": "execute_result"
    }
   ],
   "source": [
    "df_worcrash.isnull().any()"
   ]
  },
  {
   "cell_type": "markdown",
   "metadata": {},
   "source": [
    " ##Data Analysis"
   ]
  },
  {
   "cell_type": "markdown",
   "metadata": {},
   "source": [
    "Now, let us  see which day of the week has the most crash reports."
   ]
  },
  {
   "cell_type": "code",
   "execution_count": 48,
   "metadata": {},
   "outputs": [
    {
     "data": {
      "image/png": "[encoded data removed]",
      "text/plain": [
       "<Figure size 720x720 with 1 Axes>"
      ]
     },
     "metadata": {},
     "output_type": "display_data"
    }
   ],
   "source": [
    "day_edges = [-.5, 0.5, 1.5, 2.5, 3.5, 4.5, 5.5, 6.5]\n",
    "xlabel = '0 = Mon, 1 = Tue, 2 = Wed, 3 = Thu, 4 = Fri, 5 = Sat, 6 = Sun'\n",
    "plt.gcf().set_size_inches(10,10)\n",
    "plt.hist(df_worcrash.DayOfWeek, align = 'mid', bins = day_edges, rwidth = .5)\n",
    "plt.xlabel(xlabel, fontsize = 12)\n",
    "plt.ylabel('Frequency', fontsize = 12)\n",
    "plt.title('Days of the Week Crash Reports', fontweight = 'bold', fontsize = 14)\n",
    "plt.show()"
   ]
  },
  {
   "cell_type": "markdown",
   "metadata": {},
   "source": [
    "Looking at the data, the distribution of reports seems pretty normal. Although, we can see that the weekends, Saturday and Sunday seems to have a lower report rate. And that Friday has the highest. \n",
    "This might be because most people do not work during the weekends and some are trying to rush home on Fridays. "
   ]
  },
  {
   "cell_type": "markdown",
   "metadata": {},
   "source": []
  },
  {
   "cell_type": "markdown",
   "metadata": {},
   "source": [
    "I tried using the function weekday_name to get the actual words i.g \"Monday\", but it takes a really long time to graph them and so I just decided that it would be better to just leave it as numbers."
   ]
  },
  {
   "cell_type": "code",
   "execution_count": 49,
   "metadata": {
    "scrolled": true
   },
   "outputs": [],
   "source": [
    "#df_worcrash.loc[df_worcrash['DayOfWeek'] == 0, 'DayOfWeek' ] = 'M'\n",
    "#df_worcrash.loc[df_worcrash['DayOfWeek'] == 1, 'DayOfWeek' ] = 'T'\n",
    "#df_worcrash.loc[df_worcrash['DayOfWeek'] == 2, 'DayOfWeek' ] = 'W'\n",
    "#df_worcrash.loc[df_worcrash['DayOfWeek'] == 3, 'DayOfWeek' ] = 'Th'\n",
    "#df_worcrash.loc[df_worcrash['DayOfWeek'] == 4, 'DayOfWeek' ] = 'F'\n",
    "#df_worcrash.loc[df_worcrash['DayOfWeek'] == 5, 'DayOfWeek' ] = 'S'\n",
    "#df_worcrash.loc[df_worcrash['DayOfWeek'] == 6, 'DayOfWeek' ] = 'Su'"
   ]
  },
  {
   "cell_type": "markdown",
   "metadata": {},
   "source": [
    "Another thing that we could do is graph the date and the number of reports as well."
   ]
  },
  {
   "cell_type": "code",
   "execution_count": 50,
   "metadata": {},
   "outputs": [
    {
     "data": {
      "text/plain": [
       "Text(0.5,1,'Number of Reports in Months')"
      ]
     },
     "execution_count": 50,
     "metadata": {},
     "output_type": "execute_result"
    },
    {
     "data": {
      "image/png": "[encoded data removed]",
      "text/plain": [
       "<Figure size 576x576 with 1 Axes>"
      ]
     },
     "metadata": {},
     "output_type": "display_data"
    }
   ],
   "source": [
    "month_edges = [0.5, 1.5, 2.5, 3.5, 4.5, 5.5, 6.5, 7.5, 8.5, 9.5, 10.5, 11.5, 12.5]\n",
    "df_worcrash['Month'] = df_worcrash['CrashDT'].dt.month\n",
    "month = df_worcrash.Month\n",
    "plt.gcf().set_size_inches(8,8)\n",
    "plt.hist(month, bins = month_edges, align = 'mid', rwidth = 0.5)\n",
    "plt.ylabel('Frequency', fontsize = 12)\n",
    "plt.xlabel('The month as January=1, December=12', fontsize = 12)\n",
    "plt.title('Number of Reports in Months',fontweight = 'bold', fontsize = 14)"
   ]
  },
  {
   "cell_type": "markdown",
   "metadata": {},
   "source": [
    "This is actually interesting. I would've thought that the number of accidents would be higher in the snow months, but not really. The month with the highest reports are January and December, months when it doesn't really snow a lot. "
   ]
  },
  {
   "cell_type": "code",
   "execution_count": null,
   "metadata": {},
   "outputs": [],
   "source": []
  },
  {
   "cell_type": "markdown",
   "metadata": {},
   "source": [
    "Lets check which time of the day have the most crash reports. "
   ]
  },
  {
   "cell_type": "code",
   "execution_count": 51,
   "metadata": {},
   "outputs": [
    {
     "data": {
      "text/plain": [
       "(array([ 3994.,  3966.,  4376.,  1978.,  1354.,  1610.,  3122.,  5992.,\n",
       "         8324.,  6803.,  7069.,  8146., 10794.,  9366., 10746., 10138.,\n",
       "        10679., 11022.,  7972.,  6096.,  5160.,  4804.,  4170.,  4100.]),\n",
       " array([ 0,  1,  2,  3,  4,  5,  6,  7,  8,  9, 10, 11, 12, 13, 14, 15, 16,\n",
       "        17, 18, 19, 20, 21, 22, 23, 24], dtype=int64),\n",
       " <a list of 24 Patch objects>)"
      ]
     },
     "execution_count": 51,
     "metadata": {},
     "output_type": "execute_result"
    },
    {
     "data": {
      "image/png": "[encoded data removed]",
      "text/plain": [
       "<Figure size 720x720 with 1 Axes>"
      ]
     },
     "metadata": {},
     "output_type": "display_data"
    }
   ],
   "source": [
    "crash_timehour = df_worcrash['CrashDT'].dt.hour\n",
    "plt.gcf().set_size_inches(10,10)\n",
    "plt.hist(crash_timehour, bins=np.arange(crash_timehour.min(), crash_timehour.max()+2), align='left', rwidth = 0.5)"
   ]
  },
  {
   "cell_type": "markdown",
   "metadata": {},
   "source": [
    "It seems like the highest amount of crash reports happens at noon from 12 to 5 PM, and also there is a peak at 8 in the morning."
   ]
  },
  {
   "cell_type": "code",
   "execution_count": null,
   "metadata": {},
   "outputs": [],
   "source": []
  },
  {
   "cell_type": "markdown",
   "metadata": {},
   "source": [
    "Let us also check which police agency the crash was reported to."
   ]
  },
  {
   "cell_type": "code",
   "execution_count": 52,
   "metadata": {},
   "outputs": [
    {
     "data": {
      "text/plain": [
       "array(['Local police', 'State police', nan, 'Other', 'MBTA police'],\n",
       "      dtype=object)"
      ]
     },
     "execution_count": 52,
     "metadata": {},
     "output_type": "execute_result"
    }
   ],
   "source": [
    "df_worcrash['PoliceAgency'].unique()"
   ]
  },
  {
   "cell_type": "code",
   "execution_count": 53,
   "metadata": {},
   "outputs": [
    {
     "data": {
      "text/plain": [
       "<matplotlib.legend.Legend at 0x2366171b978>"
      ]
     },
     "execution_count": 53,
     "metadata": {},
     "output_type": "execute_result"
    },
    {
     "data": {
      "image/png": "[encoded data removed]",
      "text/plain": [
       "<Figure size 720x720 with 1 Axes>"
      ]
     },
     "metadata": {},
     "output_type": "display_data"
    }
   ],
   "source": [
    "LPcount = df_worcrash['PoliceAgency'].str.count('Local police').sum().astype(int)\n",
    "MBTAcount = df_worcrash['PoliceAgency'].str.count('MBTA police').sum().astype(int)\n",
    "SPcount = df_worcrash['PoliceAgency'].str.count('State police').sum().astype(int)\n",
    "Othercount = df_worcrash['PoliceAgency'].str.count('Other').sum().astype(int)\n",
    "x = range(1,5)\n",
    "labels = ['Local', 'State', 'MBTA', 'Other']\n",
    "plt.bar(1, LPcount, color = 'darkblue', label = 'Local Police')\n",
    "plt.bar(2 , height = SPcount, color = 'cyan', label = 'State Police')\n",
    "plt.bar(3, height = MBTAcount, color = 'blue', label = 'MBTA Police')\n",
    "plt.bar(4, Othercount, color = 'green', label = 'Other')\n",
    "plt.gcf().set_size_inches(10,10)\n",
    "plt.xticks(x, labels)\n",
    "plt.legend()"
   ]
  },
  {
   "cell_type": "markdown",
   "metadata": {},
   "source": [
    "It seems like  most of the reports were for the Local Police which is to be expected. My graph is not long enough to show the \"Other\"."
   ]
  },
  {
   "cell_type": "code",
   "execution_count": null,
   "metadata": {},
   "outputs": [],
   "source": []
  },
  {
   "cell_type": "markdown",
   "metadata": {},
   "source": [
    "Checking which roadway have the highest reported crashes. "
   ]
  },
  {
   "cell_type": "code",
   "execution_count": 54,
   "metadata": {},
   "outputs": [
    {
     "data": {
      "text/plain": [
       "9584"
      ]
     },
     "execution_count": 54,
     "metadata": {},
     "output_type": "execute_result"
    }
   ],
   "source": [
    "df_worcrash.Roadway.nunique()"
   ]
  },
  {
   "cell_type": "code",
   "execution_count": 73,
   "metadata": {},
   "outputs": [
    {
     "name": "stdout",
     "output_type": "stream",
     "text": [
      "MAIN STREET             3976\n",
      "PARK AVENUE             3652\n",
      "Rte 290 W               3356\n",
      "Rte 290 E               3188\n",
      "LINCOLN STREET          2766\n",
      "GRAFTON STREET          2180\n",
      "CHANDLER STREET         2110\n",
      "BELMONT STREET          1940\n",
      "PLEASANT STREET         1832\n",
      "WEST BOYLSTON STREET    1736\n",
      "PLANTATION STREET       1458\n",
      "SOUTHBRIDGE STREET      1196\n",
      "HIGHLAND STREET         1190\n",
      "CAMBRIDGE STREET        1126\n",
      "SHREWSBURY STREET       1084\n",
      "Name: Roadway, dtype: int64\n"
     ]
    }
   ],
   "source": [
    "roadway_counts = df_worcrash.Roadway.value_counts()[:15]\n",
    "print(roadway_counts)"
   ]
  },
  {
   "cell_type": "markdown",
   "metadata": {},
   "source": [
    "This is a bit surprising for me. Although I expected Main Street to have the a lot of report. I never would have thought that it would be more than the highways. Commulatively there seems to be more reports on the Strrets than the highways as well."
   ]
  }
 ],
 "metadata": {
  "kernelspec": {
   "display_name": "Python 3",
   "language": "python",
   "name": "python3"
  },
  "language_info": {
   "codemirror_mode": {
    "name": "ipython",
    "version": 3
   },
   "file_extension": ".py",
   "mimetype": "text/x-python",
   "name": "python",
   "nbconvert_exporter": "python",
   "pygments_lexer": "ipython3",
   "version": "3.6.5"
  }
 },
 "nbformat": 4,
 "nbformat_minor": 2
}
